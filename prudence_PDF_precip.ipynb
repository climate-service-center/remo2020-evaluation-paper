{
 "cells": [
  {
   "cell_type": "code",
   "execution_count": 1,
   "id": "e435392d-a2f4-462c-b5c6-6fe01f19ce90",
   "metadata": {
    "tags": []
   },
   "outputs": [
    {
     "name": "stderr",
     "output_type": "stream",
     "text": [
      "ERROR 1: PROJ: proj_create_from_database: Open of /work/ch0636/g300096/Python/envs/ikercordex/share/proj failed\n",
      "/tmp/ipykernel_81290/2325055468.py:8: TqdmWarning: IProgress not found. Please update jupyter and ipywidgets. See https://ipywidgets.readthedocs.io/en/stable/user_install.html\n",
      "  from tqdm.autonotebook import tqdm\n"
     ]
    }
   ],
   "source": [
    "import cartopy.crs as ccrs\n",
    "import intake\n",
    "import matplotlib.pyplot as plt\n",
    "import matplotlib.gridspec as gridspec\n",
    "import matplotlib as mpl\n",
    "import numpy as np\n",
    "import xarray as xr\n",
    "from tqdm.autonotebook import tqdm\n",
    "import pyremo as pr\n",
    "import cordex as cx\n",
    "import glob\n",
    "import regionmask"
   ]
  },
  {
   "cell_type": "code",
   "execution_count": 2,
   "id": "fb8dea8b-ccc9-4a06-8fa6-679bb68eae86",
   "metadata": {
    "tags": []
   },
   "outputs": [],
   "source": [
    "# create variable info class for model\n",
    "class modelclass:\n",
    "    def __init__(self, userexp, runame):\n",
    "        self.userexp = userexp # XXXYYY\n",
    "        self.runame = runame # name of the run"
   ]
  },
  {
   "cell_type": "code",
   "execution_count": 3,
   "id": "875e8184-43c3-4602-b972-a1f816aecfc3",
   "metadata": {
    "tags": []
   },
   "outputs": [],
   "source": [
    "# define the runs to be plotted\n",
    "modelruns =[] # init\n",
    "\n",
    "modelruns.append(modelclass(\"056524\",\"REMO2015\"))\n",
    "modelruns.append(modelclass(\"036030\",\"REMO2020$_{27}$\"))\n",
    "modelruns.append(modelclass(\"036031\",\"REMO2020$_{27}$ Shallow\"))\n",
    "modelruns.append(modelclass(\"036032\",\"REMO2020$_{49}$\"))\n",
    "modelruns.append(modelclass(\"036033\",\"REMO2020$_{49}$ no-Prog\"))\n",
    "modelruns.append(modelclass(\"036036\",\"REMO2020$_{49}$ Wetcore\"))\n",
    "modelruns.append(modelclass(\"036037\",\"REMO2020$_{49}$ Shallow\"))"
   ]
  },
  {
   "cell_type": "code",
   "execution_count": 8,
   "id": "4e61034f-dbbf-4515-a5de-5f857a914723",
   "metadata": {
    "tags": []
   },
   "outputs": [],
   "source": [
    "# datapath and land-sea-mask (BLA) file\n",
    "dpath = \"./data_in/model_data/histogram/\"\n",
    "remoblafile = \"./data_in/model_data/REMO_static/BLA_EUR-11.nc\""
   ]
  },
  {
   "cell_type": "code",
   "execution_count": 9,
   "id": "44f7e587-7bcc-4109-962e-71746123fa78",
   "metadata": {
    "tags": []
   },
   "outputs": [],
   "source": [
    "# results path\n",
    "respath = dpath"
   ]
  },
  {
   "cell_type": "code",
   "execution_count": 10,
   "id": "2a9459f4-a10a-4681-9d84-7ed2e20ae44b",
   "metadata": {
    "tags": []
   },
   "outputs": [],
   "source": [
    "# define star year and end year\n",
    "ystart=2001\n",
    "yend=2010"
   ]
  },
  {
   "cell_type": "code",
   "execution_count": 11,
   "id": "1a474422-29ba-4e1b-92be-45f846805ce7",
   "metadata": {
    "tags": []
   },
   "outputs": [],
   "source": [
    "# open land-sea-mask\n",
    "mask_lsm = xr.open_dataset(remoblafile).BLA.rename(\"mask_lsm\")"
   ]
  },
  {
   "cell_type": "code",
   "execution_count": 12,
   "id": "f6991720-0286-422d-8ccc-c7ba20a73af3",
   "metadata": {
    "tags": []
   },
   "outputs": [],
   "source": [
    "# create prudence mask\n",
    "mask_pru = cx.regions.prudence.mask_3D(mask_lsm.lon, mask_lsm.lat).rename(\"mask_pru\")"
   ]
  },
  {
   "cell_type": "code",
   "execution_count": 13,
   "id": "c50e9bdb-66b3-4ef6-b7b6-78de024d6234",
   "metadata": {
    "tags": []
   },
   "outputs": [],
   "source": [
    "# Set halo zone length (will be cutted out)\n",
    "halo = 8"
   ]
  },
  {
   "cell_type": "code",
   "execution_count": 14,
   "id": "14454d2b-19be-402c-af2a-e6a924fae41e",
   "metadata": {
    "tags": []
   },
   "outputs": [
    {
     "data": {
      "text/plain": [
       "<xarray.core.options.set_options at 0x7fffe738f6d0>"
      ]
     },
     "execution_count": 14,
     "metadata": {},
     "output_type": "execute_result"
    }
   ],
   "source": [
    "# we want to keep attributes when addid dataset\n",
    "xr.set_options(keep_attrs=True)"
   ]
  },
  {
   "cell_type": "code",
   "execution_count": 15,
   "id": "eeb0d351-597d-4afe-abfa-38fa417fbefb",
   "metadata": {
    "tags": []
   },
   "outputs": [],
   "source": [
    "# give parameters for the bins\n",
    "bin_start = 0\n",
    "bin_end = 140\n",
    "bin_step = 1"
   ]
  },
  {
   "cell_type": "code",
   "execution_count": 16,
   "id": "00f4b44d-4d3d-4fcb-9767-180a753da245",
   "metadata": {
    "tags": []
   },
   "outputs": [],
   "source": [
    "# months for analysis\n",
    "anmons = np.array([6,7,8])"
   ]
  },
  {
   "cell_type": "code",
   "execution_count": 17,
   "id": "f50b3466-d92a-489a-95d0-e5d1556c5d38",
   "metadata": {
    "tags": []
   },
   "outputs": [],
   "source": [
    "for obj in modelruns: # here compute things are not really needed, probably\n",
    "    # due to data size, we need to open year-by-year\n",
    "    for year in range(ystart,yend+1):\n",
    "        # load data\n",
    "        ds =  pr.parse_dates(xr.open_dataset(dpath+\"totpre2D_hourly_\"+obj.userexp+\"_\"+str(year)+\".nc\"))\n",
    "        # combine data with masks and chooce only summer months\n",
    "        dsmask = xr.merge([(ds[\"APRL\"]+ds[\"APRC\"]).rename(\"totpre\").where(ds.time.dt.month.isin(anmons), drop=True), mask_pru, mask_lsm], compat=\"override\", join=\"override\")\n",
    "        # cut halo\n",
    "        dsmask = dsmask.isel(rlat=slice(halo+1,dsmask.sizes[\"rlat\"]-halo+1), rlon=slice(halo+1,dsmask.sizes[\"rlon\"]-halo+1)).compute()\n",
    "        # calculate data without sea points\n",
    "        nosea = dsmask[\"totpre\"].where(dsmask.mask_lsm > 0, drop=True).rename(\"totpre\").compute()\n",
    "        # loop over regions\n",
    "        jj = 0\n",
    "        for reg in dsmask.region:\n",
    "            hist, bin_edges = np.histogram(nosea.where(dsmask.mask_pru.isel(region=reg),drop=True), bins=np.arange(bin_start,bin_end+bin_step,bin_step))\n",
    "            xr_tmp = xr.Dataset(\n",
    "                data_vars=dict(varri=([\"bins\"],hist,dict(standard_name=str(dsmask.isel(region=reg).names.values)))),\n",
    "                coords=dict(bins=([\"bins\"],bin_edges[:-1]+bin_step/2.)),\n",
    "                attrs=dict({\"runname\": obj.runame})\n",
    "            ).rename({\"varri\": str(dsmask.isel(region=reg).abbrevs.values)}).compute()\n",
    "            if(jj == 0):\n",
    "                histstack = xr_tmp\n",
    "            else:\n",
    "                histstack = xr.merge([histstack, xr_tmp],compat=\"override\", join=\"override\")\n",
    "            jj = jj + 1\n",
    "            del xr_tmp\n",
    "        if(ystart != yend): # more than one year\n",
    "            if(year == ystart):\n",
    "                collect_data = histstack\n",
    "            else:\n",
    "                collect_data = collect_data + histstack\n",
    "        else: # only one year\n",
    "            collect_data = histstack\n",
    "        # clear memory\n",
    "        del ds, dsmask, nosea, histstack\n",
    "    # write to file\n",
    "    collect_data.to_netcdf(respath+\"prudence_1h_precipitation_hist_\"+obj.userexp+\"_\"+str(ystart)+\"-\"+str(yend)+\".nc\",mode=\"w\")\n",
    "    # clear memory\n",
    "    del collect_data"
   ]
  }
 ],
 "metadata": {
  "kernelspec": {
   "display_name": "Cordex",
   "language": "python",
   "name": "cordex"
  },
  "language_info": {
   "codemirror_mode": {
    "name": "ipython",
    "version": 3
   },
   "file_extension": ".py",
   "mimetype": "text/x-python",
   "name": "python",
   "nbconvert_exporter": "python",
   "pygments_lexer": "ipython3",
   "version": "3.10.5"
  }
 },
 "nbformat": 4,
 "nbformat_minor": 5
}
