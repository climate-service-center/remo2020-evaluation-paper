{
 "cells": [
  {
   "cell_type": "code",
   "execution_count": 1,
   "id": "e435392d-a2f4-462c-b5c6-6fe01f19ce90",
   "metadata": {
    "tags": []
   },
   "outputs": [
    {
     "name": "stderr",
     "output_type": "stream",
     "text": [
      "ERROR 1: PROJ: proj_create_from_database: Open of /work/ch0636/g300096/Python/envs/kernel2023/share/proj failed\n",
      "/tmp/ipykernel_80073/1952488559.py:8: TqdmWarning: IProgress not found. Please update jupyter and ipywidgets. See https://ipywidgets.readthedocs.io/en/stable/user_install.html\n",
      "  from tqdm.autonotebook import tqdm\n"
     ]
    }
   ],
   "source": [
    "import cartopy.crs as ccrs\n",
    "import intake\n",
    "import matplotlib.pyplot as plt\n",
    "import matplotlib.gridspec as gridspec\n",
    "import matplotlib as mpl\n",
    "import numpy as np\n",
    "import xarray as xr\n",
    "from tqdm.autonotebook import tqdm\n",
    "import pyremo as pr\n",
    "import cordex as cx\n",
    "import glob\n",
    "import regionmask\n",
    "from REMO2020_mod import open_mfdataset"
   ]
  },
  {
   "cell_type": "code",
   "execution_count": 9,
   "id": "4e61034f-dbbf-4515-a5de-5f857a914723",
   "metadata": {
    "tags": []
   },
   "outputs": [],
   "source": [
    "# datapath\n",
    "dpath = \"./data_in/RADKLIM/\" # for original data\n",
    "#dpath = \"./data_in/RADKLIM/EUR-11/\" # For remapped to EUR-11"
   ]
  },
  {
   "cell_type": "code",
   "execution_count": 10,
   "id": "44f7e587-7bcc-4109-962e-71746123fa78",
   "metadata": {
    "tags": []
   },
   "outputs": [],
   "source": [
    "# results path\n",
    "respath = \"./data_in/model_data/histogram/\""
   ]
  },
  {
   "cell_type": "code",
   "execution_count": 11,
   "id": "2a9459f4-a10a-4681-9d84-7ed2e20ae44b",
   "metadata": {
    "tags": []
   },
   "outputs": [],
   "source": [
    "# define star year and end year\n",
    "ystart=2001\n",
    "yend=2010"
   ]
  },
  {
   "cell_type": "code",
   "execution_count": 12,
   "id": "14454d2b-19be-402c-af2a-e6a924fae41e",
   "metadata": {
    "tags": []
   },
   "outputs": [
    {
     "data": {
      "text/plain": [
       "<xarray.core.options.set_options at 0x7fffe5a58730>"
      ]
     },
     "execution_count": 12,
     "metadata": {},
     "output_type": "execute_result"
    }
   ],
   "source": [
    "# we want to keep attributes when addid dataset\n",
    "xr.set_options(keep_attrs=True)"
   ]
  },
  {
   "cell_type": "code",
   "execution_count": 13,
   "id": "d365be84-218a-4afc-9d02-dbc9d6f91d5e",
   "metadata": {
    "tags": []
   },
   "outputs": [],
   "source": [
    "# give parameters for the bins\n",
    "bin_start = 0.0\n",
    "bin_end = 140\n",
    "bin_step = 1.0"
   ]
  },
  {
   "cell_type": "code",
   "execution_count": 14,
   "id": "71ddd981-0997-45df-ad5b-098d66919d40",
   "metadata": {
    "tags": []
   },
   "outputs": [],
   "source": [
    "# months for analysis\n",
    "anmons = np.array([6,7,8])"
   ]
  },
  {
   "cell_type": "code",
   "execution_count": 15,
   "id": "95c80992-4dc2-40c9-9aaa-1139aa17fe27",
   "metadata": {
    "tags": []
   },
   "outputs": [],
   "source": [
    "for year in range(ystart,yend+1):\n",
    "    # filenames\n",
    "    filenames = glob.glob(dpath+\"grid_newprec_rw_\"+str(year)+\"*.nc\")\n",
    "    # load data\n",
    "    ds = open_mfdataset(filenames, parallel=False, chunks='auto')\n",
    "    # get histogram\n",
    "    hist, bin_edges = np.histogram(ds.prec.where(ds.time.dt.month.isin(anmons), drop=True), bins=np.arange(bin_start,bin_end+bin_step,bin_step))\n",
    "    xr_tmp = xr.Dataset(\n",
    "            data_vars=dict(varri=([\"bins\"],hist,dict(standard_name=\"RADKLIM\"))),\n",
    "            coords=dict(bins=([\"bins\"],bin_edges[:-1]+bin_step/2.))\n",
    "    ).compute()\n",
    "    if(ystart != yend): # more than one year\n",
    "        if(year == ystart):\n",
    "            collect_data = xr_tmp\n",
    "        else:\n",
    "            collect_data = collect_data + xr_tmp\n",
    "    else: # only one year\n",
    "        collect_data = xr_tmp\n",
    "    # clear memory\n",
    "    del ds\n",
    "# write to file\n",
    "collect_data.to_netcdf(respath+\"RADKLIM_1h_precipitation_hist_000000_\"+str(ystart)+\"-\"+str(yend)+\".nc\",mode=\"w\") # original\n",
    "#collect_data.to_netcdf(respath+\"RADKLIM_1h_precipitation_hist_000001_\"+str(ystart)+\"-\"+str(yend)+\".nc\",mode=\"w\") # EUR-11\n",
    "# clear memory\n",
    "del collect_data"
   ]
  },
  {
   "cell_type": "code",
   "execution_count": null,
   "id": "556e4185-a237-449b-9260-f6bee6d2102a",
   "metadata": {},
   "outputs": [],
   "source": []
  },
  {
   "cell_type": "code",
   "execution_count": null,
   "id": "64df0a60-b76d-4c34-bc3a-ac1733905525",
   "metadata": {},
   "outputs": [],
   "source": []
  }
 ],
 "metadata": {
  "kernelspec": {
   "display_name": "Kernel2023",
   "language": "python",
   "name": "kernel2023"
  },
  "language_info": {
   "codemirror_mode": {
    "name": "ipython",
    "version": 3
   },
   "file_extension": ".py",
   "mimetype": "text/x-python",
   "name": "python",
   "nbconvert_exporter": "python",
   "pygments_lexer": "ipython3",
   "version": "3.10.13"
  }
 },
 "nbformat": 4,
 "nbformat_minor": 5
}
