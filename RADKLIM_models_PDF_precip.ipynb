{
 "cells": [
  {
   "cell_type": "code",
   "execution_count": 1,
   "id": "e435392d-a2f4-462c-b5c6-6fe01f19ce90",
   "metadata": {
    "tags": []
   },
   "outputs": [
    {
     "name": "stderr",
     "output_type": "stream",
     "text": [
      "ERROR 1: PROJ: proj_create_from_database: Open of /work/ch0636/g300096/Python/envs/kernel2023/share/proj failed\n",
      "/tmp/ipykernel_80432/1039813734.py:8: TqdmWarning: IProgress not found. Please update jupyter and ipywidgets. See https://ipywidgets.readthedocs.io/en/stable/user_install.html\n",
      "  from tqdm.autonotebook import tqdm\n"
     ]
    }
   ],
   "source": [
    "import cartopy.crs as ccrs\n",
    "import intake\n",
    "import matplotlib.pyplot as plt\n",
    "import matplotlib.gridspec as gridspec\n",
    "import matplotlib as mpl\n",
    "import numpy as np\n",
    "import xarray as xr\n",
    "from tqdm.autonotebook import tqdm\n",
    "import pyremo as pr\n",
    "import cordex as cx\n",
    "import glob\n",
    "import regionmask\n",
    "import regionmask\n",
    "from REMO2020_mod import open_mfdataset"
   ]
  },
  {
   "cell_type": "code",
   "execution_count": 2,
   "id": "fb8dea8b-ccc9-4a06-8fa6-679bb68eae86",
   "metadata": {
    "tags": []
   },
   "outputs": [],
   "source": [
    "# create variable info class for model\n",
    "class modelclass:\n",
    "    def __init__(self, userexp, runame):\n",
    "        self.userexp = userexp # XXXYYY\n",
    "        self.runame = runame # name of the run"
   ]
  },
  {
   "cell_type": "code",
   "execution_count": 3,
   "id": "875e8184-43c3-4602-b972-a1f816aecfc3",
   "metadata": {
    "tags": []
   },
   "outputs": [],
   "source": [
    "# define the runs to be plotted\n",
    "modelruns =[] # init\n",
    "\n",
    "modelruns.append(modelclass(\"056524\",\"REMO2015\"))\n",
    "modelruns.append(modelclass(\"036030\",\"REMO2020$_{27}$\"))\n",
    "modelruns.append(modelclass(\"036031\",\"REMO2020$_{27}$ Shallow\"))\n",
    "modelruns.append(modelclass(\"036032\",\"REMO2020$_{49}$\"))\n",
    "modelruns.append(modelclass(\"036033\",\"REMO2020$_{49}$ no-Prog\"))\n",
    "modelruns.append(modelclass(\"036036\",\"REMO2020$_{49}$ Wetcore\"))\n",
    "modelruns.append(modelclass(\"036037\",\"REMO2020$_{49}$ Shallow\"))"
   ]
  },
  {
   "cell_type": "code",
   "execution_count": 4,
   "id": "4e61034f-dbbf-4515-a5de-5f857a914723",
   "metadata": {
    "tags": []
   },
   "outputs": [],
   "source": [
    "# datapath\n",
    "dpath = \"./data_in/model_data/histogram/\""
   ]
  },
  {
   "cell_type": "code",
   "execution_count": 5,
   "id": "44f7e587-7bcc-4109-962e-71746123fa78",
   "metadata": {
    "tags": []
   },
   "outputs": [],
   "source": [
    "# results path\n",
    "respath = dpath"
   ]
  },
  {
   "cell_type": "code",
   "execution_count": 6,
   "id": "4bf69836-5bd9-4677-9e8b-c32af806e9a2",
   "metadata": {
    "tags": []
   },
   "outputs": [],
   "source": [
    "# RADKLIM mask path (if there is data (monthly sum) in a grid-box -> 1, if not 0)\n",
    "rdklim_mask = dpath+\"mm_masks/\""
   ]
  },
  {
   "cell_type": "code",
   "execution_count": 7,
   "id": "2a9459f4-a10a-4681-9d84-7ed2e20ae44b",
   "metadata": {
    "tags": []
   },
   "outputs": [],
   "source": [
    "# define star year and end year\n",
    "ystart=2001\n",
    "yend=2010"
   ]
  },
  {
   "cell_type": "code",
   "execution_count": 8,
   "id": "c50e9bdb-66b3-4ef6-b7b6-78de024d6234",
   "metadata": {
    "tags": []
   },
   "outputs": [],
   "source": [
    "# Set halo zone length (will be cutted out)\n",
    "halo = 8"
   ]
  },
  {
   "cell_type": "code",
   "execution_count": 9,
   "id": "14454d2b-19be-402c-af2a-e6a924fae41e",
   "metadata": {
    "tags": []
   },
   "outputs": [
    {
     "data": {
      "text/plain": [
       "<xarray.core.options.set_options at 0x7ffb5dbccf70>"
      ]
     },
     "execution_count": 9,
     "metadata": {},
     "output_type": "execute_result"
    }
   ],
   "source": [
    "# we want to keep attributes when addid dataset\n",
    "xr.set_options(keep_attrs=True)"
   ]
  },
  {
   "cell_type": "code",
   "execution_count": 10,
   "id": "8abd1dfb-2307-42ea-bc15-2aa0c9b1a739",
   "metadata": {
    "tags": []
   },
   "outputs": [],
   "source": [
    "# give parameters for the bins\n",
    "bin_start = 0.0\n",
    "bin_end = 140\n",
    "bin_step = 1.0"
   ]
  },
  {
   "cell_type": "code",
   "execution_count": 11,
   "id": "af486979-c96f-4adc-b2c6-21d20fc2a329",
   "metadata": {
    "tags": []
   },
   "outputs": [],
   "source": [
    "# months for analysis\n",
    "anmons = np.array([6,7,8])"
   ]
  },
  {
   "cell_type": "code",
   "execution_count": 12,
   "id": "f50b3466-d92a-489a-95d0-e5d1556c5d38",
   "metadata": {
    "tags": []
   },
   "outputs": [],
   "source": [
    "for obj in modelruns: # here compute things are not really needed, probably\n",
    "    # due to data size, we need to open year-by-year\n",
    "    for year in range(ystart,yend+1):\n",
    "        # load data\n",
    "        ds =  pr.parse_dates(xr.open_dataset(dpath+\"totpre2D_hourly_\"+obj.userexp+\"_\"+str(year)+\".nc\",cache=False))\n",
    "        # load mask data\n",
    "        # filenames\n",
    "        filenames = glob.glob(rdklim_mask+\"EUR-11_\"+str(year)+\"*.nc\")\n",
    "        # load data\n",
    "        dsm = open_mfdataset(filenames, parallel=False, chunks='auto')\n",
    "        # combine data with masks and chooce only summer months\n",
    "        dsmask = xr.merge([(ds[\"APRL\"]+ds[\"APRC\"]).rename(\"totpre\").where(ds.time.dt.month.isin(anmons), drop=True), dsm.prec.where(dsm.time.dt.month.isin(anmons), drop=True).rename(\"rdklim_mask\").sum(dim=\"time\")], compat=\"override\", join=\"override\")\n",
    "        # cut halo\n",
    "        dsmask = dsmask.isel(rlat=slice(halo+1,dsmask.sizes[\"rlat\"]-halo+1), rlon=slice(halo+1,dsmask.sizes[\"rlon\"]-halo+1)).compute()\n",
    "        # mask data\n",
    "        final_data = dsmask.totpre.where(dsmask.rdklim_mask > 0, drop=True).rename(\"totpre\").compute()\n",
    "        # create histogram\n",
    "        hist, bin_edges = np.histogram(final_data.values, bins=np.arange(bin_start,bin_end+bin_step,bin_step))\n",
    "        xr_tmp = xr.Dataset(\n",
    "            data_vars=dict(varri=([\"bins\"],hist,dict(standard_name=\"RADKLIM\"))),\n",
    "            coords=dict(bins=([\"bins\"],bin_edges[:-1]+bin_step/2.))\n",
    "        ).compute()\n",
    "        #\n",
    "        if(ystart != yend): # more than one year\n",
    "            if(year == ystart):\n",
    "                collect_data = xr_tmp\n",
    "            else:\n",
    "                collect_data = collect_data + xr_tmp\n",
    "        else: # only one year\n",
    "            collect_data = xr_tmp\n",
    "        # clear memory\n",
    "        del ds, dsmask, dsm, final_data\n",
    "    # write to file\n",
    "    collect_data.to_netcdf(respath+\"RADKLIM_1h_precipitation_hist_\"+obj.userexp+\"_\"+str(ystart)+\"-\"+str(yend)+\".nc\",mode=\"w\")\n",
    "    # clear memory\n",
    "    del collect_data"
   ]
  },
  {
   "cell_type": "code",
   "execution_count": null,
   "id": "be24ae17-7a9a-41cc-8a6d-a2883e040df8",
   "metadata": {},
   "outputs": [],
   "source": []
  },
  {
   "cell_type": "code",
   "execution_count": null,
   "id": "3dfc8075-b6f5-4e24-97f1-2537246068f5",
   "metadata": {},
   "outputs": [],
   "source": []
  },
  {
   "cell_type": "code",
   "execution_count": null,
   "id": "10ddd4ea-50cc-4bb3-b265-94862dcf276f",
   "metadata": {},
   "outputs": [],
   "source": []
  }
 ],
 "metadata": {
  "kernelspec": {
   "display_name": "Kernel2023",
   "language": "python",
   "name": "kernel2023"
  },
  "language_info": {
   "codemirror_mode": {
    "name": "ipython",
    "version": 3
   },
   "file_extension": ".py",
   "mimetype": "text/x-python",
   "name": "python",
   "nbconvert_exporter": "python",
   "pygments_lexer": "ipython3",
   "version": "3.10.13"
  }
 },
 "nbformat": 4,
 "nbformat_minor": 5
}
